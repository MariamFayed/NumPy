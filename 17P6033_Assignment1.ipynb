{
 "cells": [
  {
   "cell_type": "code",
   "execution_count": 68,
   "metadata": {},
   "outputs": [
    {
     "name": "stdout",
     "output_type": "stream",
     "text": [
      "\u001b[1;32mPASS\u001b[m NumPy installed\n",
      "\u001b[1;32mPASS\u001b[m SciPy installed\n",
      "\u001b[1;32mPASS\u001b[m matplotlib installed\n",
      "\u001b[1;32mPASS\u001b[m PyTorch installed\n",
      "\u001b[1;32mPASS\u001b[m tqdm installed\n"
     ]
    }
   ],
   "source": [
    "import traceback\n",
    "\n",
    "\n",
    "def green(s):\n",
    "    return '\\033[1;32m%s\\033[m' % s\n",
    "\n",
    "\n",
    "def yellow(s):\n",
    "    return '\\033[1;33m%s\\033[m' % s\n",
    "\n",
    "\n",
    "def red(s):\n",
    "    return '\\033[1;31m%s\\033[m' % s\n",
    "\n",
    "\n",
    "def log(*m):\n",
    "    print(\" \".join(map(str, m)))\n",
    "\n",
    "\n",
    "def log_exit(*m):\n",
    "    log(red(\"ERROR:\"), *m)\n",
    "    exit(1)\n",
    "\n",
    "\n",
    "def check_numpy():\n",
    "    try:\n",
    "        import numpy\n",
    "        log(green(\"PASS\"), \"NumPy installed\")\n",
    "    except ModuleNotFoundError:\n",
    "        log(red(\"FAIL\"), \"NumPy not installed\")\n",
    "\n",
    "\n",
    "def check_scipy():\n",
    "    try:\n",
    "        import scipy\n",
    "        log(green(\"PASS\"), \"SciPy installed\")\n",
    "    except ModuleNotFoundError:\n",
    "        log(red(\"FAIL\"), \"SciPy not installed\")\n",
    "\n",
    "\n",
    "def check_matplotlib():\n",
    "    try:\n",
    "        import matplotlib\n",
    "        log(green(\"PASS\"), \"matplotlib installed\")\n",
    "    except ModuleNotFoundError:\n",
    "        log(red(\"FAIL\"), \"matplotlib not installed\")\n",
    "\n",
    "\n",
    "def check_torch():\n",
    "    try:\n",
    "        import torch\n",
    "        log(green(\"PASS\"), \"PyTorch installed\")\n",
    "    except ModuleNotFoundError:\n",
    "        log(red(\"FAIL\"), \"PyTorch not installed\")\n",
    "\n",
    "\n",
    "def check_tqdm():\n",
    "    try:\n",
    "        import tqdm\n",
    "        log(green(\"PASS\"), \"tqdm installed\")\n",
    "    except ModuleNotFoundError:\n",
    "        log(red(\"FAIL\"), \"tqdm not installed\")\n",
    "\n",
    "\n",
    "def main():\n",
    "    try:\n",
    "        check_numpy()\n",
    "        check_scipy()\n",
    "        check_matplotlib()\n",
    "        check_torch()\n",
    "        check_tqdm()\n",
    "    except Exception:\n",
    "        log_exit(traceback.format_exc())\n",
    "\n",
    "\n",
    "if __name__ == \"__main__\":\n",
    "    main()"
   ]
  },
  {
   "cell_type": "code",
   "execution_count": 69,
   "metadata": {},
   "outputs": [],
   "source": [
    "import numpy as np"
   ]
  },
  {
   "cell_type": "code",
   "execution_count": 70,
   "metadata": {},
   "outputs": [],
   "source": [
    "def randomization(n):\n",
    "    \"\"\"\n",
    "    Arg:\n",
    "      n - an integer\n",
    "    Returns:\n",
    "      A - a randomly-generated nx1 Numpy array.\n",
    "    \"\"\"\n",
    "    #Your code here\n",
    "    A = np.random.random(size=n).reshape(n,1)\n",
    "    return A"
   ]
  },
  {
   "cell_type": "code",
   "execution_count": 71,
   "metadata": {},
   "outputs": [
    {
     "name": "stdout",
     "output_type": "stream",
     "text": [
      "[[0.11594155]\n",
      " [0.52459804]\n",
      " [0.58612944]\n",
      " [0.08501943]\n",
      " [0.9647979 ]]\n"
     ]
    }
   ],
   "source": [
    "z = randomization(5)\n",
    "print (z)"
   ]
  },
  {
   "cell_type": "code",
   "execution_count": 72,
   "metadata": {},
   "outputs": [],
   "source": [
    "def operations(h, w):\n",
    "    \"\"\"\n",
    "    Takes two inputs, h and w, and makes two Numpy arrays A and B of size\n",
    "    h x w, and returns A, B, and s, the sum of A and B.\n",
    "\n",
    "    Arg:\n",
    "      h - an integer describing the height of A and B\n",
    "      w - an integer describing the width of A and B\n",
    "    Returns (in this order):\n",
    "      A - a randomly-generated h x w Numpy array.\n",
    "      B - a randomly-generated h x w Numpy array.\n",
    "      s - the sum of A and B.\n",
    "    \"\"\"\n",
    "    #Your code here\n",
    "    A = np.random.random(size=(h,w))\n",
    "    B = np.random.random(size=(h,w))\n",
    "    s = A + B \n",
    "    \n",
    "    return A, B, s\n",
    "    "
   ]
  },
  {
   "cell_type": "code",
   "execution_count": 88,
   "metadata": {},
   "outputs": [
    {
     "data": {
      "text/plain": [
       "(array([[0.33345701, 0.85557805, 0.42426876],\n",
       "        [0.36991492, 0.48726608, 0.41012965]]),\n",
       " array([[0.1343311 , 0.29827966, 0.90605467],\n",
       "        [0.69045599, 0.76656205, 0.07071967]]),\n",
       " array([[0.46778811, 1.1538577 , 1.33032344],\n",
       "        [1.06037091, 1.25382813, 0.48084932]]))"
      ]
     },
     "execution_count": 88,
     "metadata": {},
     "output_type": "execute_result"
    }
   ],
   "source": [
    "operations(2,3)"
   ]
  },
  {
   "cell_type": "code",
   "execution_count": 74,
   "metadata": {},
   "outputs": [],
   "source": [
    "def norm(A, B):\n",
    "    \"\"\"\n",
    "    Takes two Numpy column arrays, A and B, and returns the L2 norm of their\n",
    "    sum.\n",
    "\n",
    "    Arg:\n",
    "      A - a Numpy array\n",
    "      B - a Numpy array\n",
    "    Returns:\n",
    "      s - the L2 norm of A+B.\n",
    "    \"\"\"\n",
    "    #Your code here\n",
    "    s = A + B\n",
    "    \n",
    "    return np.linalg.norm(s)"
   ]
  },
  {
   "cell_type": "code",
   "execution_count": 75,
   "metadata": {},
   "outputs": [
    {
     "data": {
      "text/plain": [
       "0.990203866119657"
      ]
     },
     "execution_count": 75,
     "metadata": {},
     "output_type": "execute_result"
    }
   ],
   "source": [
    "A = randomization(2)\n",
    "B = randomization(2)\n",
    "norm(A,B)"
   ]
  },
  {
   "cell_type": "code",
   "execution_count": 76,
   "metadata": {},
   "outputs": [],
   "source": [
    "def neural_network(inputs, weights):\n",
    "    \"\"\"\n",
    "     Takes an input vector and runs it through a 1-layer neural network\n",
    "     with a given weight matrix and returns the output.\n",
    "\n",
    "     Arg:\n",
    "       inputs - 2 x 1 NumPy array\n",
    "       weights - 2 x 1 NumPy array\n",
    "     Returns (in this order):\n",
    "       out - a 1 x 1 NumPy array, representing the output of the neural network\n",
    "    \"\"\"\n",
    "    #Your code here\n",
    "    z = np.tanh(weights.T.dot(inputs))\n",
    "    \n",
    "    return z"
   ]
  },
  {
   "cell_type": "code",
   "execution_count": 77,
   "metadata": {},
   "outputs": [
    {
     "name": "stdout",
     "output_type": "stream",
     "text": [
      "[[0.77412912]\n",
      " [0.51316132]]\n"
     ]
    }
   ],
   "source": [
    "inputs = randomization(2)\n",
    "print(inputs)"
   ]
  },
  {
   "cell_type": "code",
   "execution_count": 78,
   "metadata": {},
   "outputs": [
    {
     "name": "stdout",
     "output_type": "stream",
     "text": [
      "[[0.95503124]\n",
      " [0.82545794]]\n"
     ]
    }
   ],
   "source": [
    "weights = randomization(2)\n",
    "print(weights)"
   ]
  },
  {
   "cell_type": "code",
   "execution_count": 79,
   "metadata": {},
   "outputs": [
    {
     "data": {
      "text/plain": [
       "array([[0.82198616]])"
      ]
     },
     "execution_count": 79,
     "metadata": {},
     "output_type": "execute_result"
    }
   ],
   "source": [
    "neural_network(inputs, weights)"
   ]
  },
  {
   "cell_type": "code",
   "execution_count": 80,
   "metadata": {},
   "outputs": [],
   "source": [
    "def scalar_function(x, y):\n",
    "    \"\"\"\n",
    "    Returns the f(x,y) defined in the problem statement.\n",
    "    \"\"\"\n",
    "    #Your code here\n",
    "    if (x <= y):\n",
    "        return x*y\n",
    "    else:\n",
    "        return x/y"
   ]
  },
  {
   "cell_type": "code",
   "execution_count": 81,
   "metadata": {},
   "outputs": [
    {
     "data": {
      "text/plain": [
       "15"
      ]
     },
     "execution_count": 81,
     "metadata": {},
     "output_type": "execute_result"
    }
   ],
   "source": [
    "scalar_function(3,5)"
   ]
  },
  {
   "cell_type": "code",
   "execution_count": 82,
   "metadata": {},
   "outputs": [
    {
     "data": {
      "text/plain": [
       "1.6666666666666667"
      ]
     },
     "execution_count": 82,
     "metadata": {},
     "output_type": "execute_result"
    }
   ],
   "source": [
    "scalar_function(5,3)"
   ]
  },
  {
   "cell_type": "code",
   "execution_count": 83,
   "metadata": {},
   "outputs": [],
   "source": [
    "def vector_function(x, y):\n",
    "    \"\"\"\n",
    "    Make sure vector_function can deal with vector input x,y \n",
    "    \"\"\"\n",
    "    #Your code here\n",
    "    output = np.vectorize(scalar_function)\n",
    "    return output(x,y)"
   ]
  },
  {
   "cell_type": "code",
   "execution_count": 84,
   "metadata": {},
   "outputs": [
    {
     "data": {
      "text/plain": [
       "array(15)"
      ]
     },
     "execution_count": 84,
     "metadata": {},
     "output_type": "execute_result"
    }
   ],
   "source": [
    "vector_function(3,5)"
   ]
  },
  {
   "cell_type": "code",
   "execution_count": 85,
   "metadata": {},
   "outputs": [
    {
     "data": {
      "text/plain": [
       "array(1.66666667)"
      ]
     },
     "execution_count": 85,
     "metadata": {},
     "output_type": "execute_result"
    }
   ],
   "source": [
    "vector_function(5,3)"
   ]
  }
 ],
 "metadata": {
  "kernelspec": {
   "display_name": "Python 3",
   "language": "python",
   "name": "python3"
  },
  "language_info": {
   "codemirror_mode": {
    "name": "ipython",
    "version": 3
   },
   "file_extension": ".py",
   "mimetype": "text/x-python",
   "name": "python",
   "nbconvert_exporter": "python",
   "pygments_lexer": "ipython3",
   "version": "3.7.9"
  }
 },
 "nbformat": 4,
 "nbformat_minor": 4
}
